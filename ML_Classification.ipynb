{
  "nbformat": 4,
  "nbformat_minor": 0,
  "metadata": {
    "colab": {
      "provenance": [],
      "collapsed_sections": [
        "eU43cBJpvr51",
        "XO4dCcvwvt6S",
        "S4chp085v2D0",
        "8D-2LDKqwoWC",
        "lrUNN7LIwtYs",
        "Uim7mWKnyXPA",
        "SKS9bTdMzJO7",
        "RvFpT8IZzM5p",
        "q6AaGo7Zzjb4",
        "Duc77jrC8rm_",
        "MihQ6T0ezlUe",
        "Q0uLKtOl4-1_",
        "r3Vgv_TJ7dfo",
        "18B--ykGF_mL",
        "W8roG3LOMezl",
        "zWJVZkQjMgiS",
        "i_DmL_3jyVTN"
      ],
      "authorship_tag": "ABX9TyNf4qs+kGQ743U1DrrN0tKp",
      "include_colab_link": true
    },
    "kernelspec": {
      "name": "python3",
      "display_name": "Python 3"
    },
    "language_info": {
      "name": "python"
    }
  },
  "cells": [
    {
      "cell_type": "markdown",
      "metadata": {
        "id": "view-in-github",
        "colab_type": "text"
      },
      "source": [
        "<a href=\"https://colab.research.google.com/github/OskarBelza/ML-DL/blob/main/ML_Classification.ipynb\" target=\"_parent\"><img src=\"https://colab.research.google.com/assets/colab-badge.svg\" alt=\"Open In Colab\"/></a>"
      ]
    },
    {
      "cell_type": "markdown",
      "source": [
        "# Przygotwanie i analzia danych"
      ],
      "metadata": {
        "id": "mIZ55nJDvfGf"
      }
    },
    {
      "cell_type": "markdown",
      "source": [
        "## Pobieranie bazy"
      ],
      "metadata": {
        "id": "eU43cBJpvr51"
      }
    },
    {
      "cell_type": "code",
      "execution_count": null,
      "metadata": {
        "id": "i0YxTYBZuha6",
        "colab": {
          "base_uri": "https://localhost:8080/"
        },
        "outputId": "cfb8eebe-ed51-4805-f0c0-43f39f667211"
      },
      "outputs": [
        {
          "output_type": "stream",
          "name": "stdout",
          "text": [
            "Requirement already satisfied: gdown in /usr/local/lib/python3.10/dist-packages (4.7.3)\n",
            "Collecting gdown\n",
            "  Downloading gdown-5.1.0-py3-none-any.whl (17 kB)\n",
            "Requirement already satisfied: beautifulsoup4 in /usr/local/lib/python3.10/dist-packages (from gdown) (4.12.3)\n",
            "Requirement already satisfied: filelock in /usr/local/lib/python3.10/dist-packages (from gdown) (3.13.1)\n",
            "Requirement already satisfied: requests[socks] in /usr/local/lib/python3.10/dist-packages (from gdown) (2.31.0)\n",
            "Requirement already satisfied: tqdm in /usr/local/lib/python3.10/dist-packages (from gdown) (4.66.2)\n",
            "Requirement already satisfied: soupsieve>1.2 in /usr/local/lib/python3.10/dist-packages (from beautifulsoup4->gdown) (2.5)\n",
            "Requirement already satisfied: charset-normalizer<4,>=2 in /usr/local/lib/python3.10/dist-packages (from requests[socks]->gdown) (3.3.2)\n",
            "Requirement already satisfied: idna<4,>=2.5 in /usr/local/lib/python3.10/dist-packages (from requests[socks]->gdown) (3.6)\n",
            "Requirement already satisfied: urllib3<3,>=1.21.1 in /usr/local/lib/python3.10/dist-packages (from requests[socks]->gdown) (2.0.7)\n",
            "Requirement already satisfied: certifi>=2017.4.17 in /usr/local/lib/python3.10/dist-packages (from requests[socks]->gdown) (2024.2.2)\n",
            "Requirement already satisfied: PySocks!=1.5.7,>=1.5.6 in /usr/local/lib/python3.10/dist-packages (from requests[socks]->gdown) (1.7.1)\n",
            "Installing collected packages: gdown\n",
            "  Attempting uninstall: gdown\n",
            "    Found existing installation: gdown 4.7.3\n",
            "    Uninstalling gdown-4.7.3:\n",
            "      Successfully uninstalled gdown-4.7.3\n",
            "Successfully installed gdown-5.1.0\n",
            "Downloading...\n",
            "From: https://drive.google.com/uc?id=15J9oqBoEYVMF6-9csFpAm1uuA2cFSvbl\n",
            "To: /content/archive.zip\n",
            "100% 3.69k/3.69k [00:00<00:00, 17.3MB/s]\n"
          ]
        }
      ],
      "source": [
        "#instalacja pakietu gdown\n",
        "!pip install -U --no-cache-dir gdown --pre\n",
        "#usuwanie i tworzenie pustego katalogu data\n",
        "!rm -rf data && mkdir data\n",
        "#pobieranie zip-a ze zdjęciami\n",
        "!gdown 15J9oqBoEYVMF6-9csFpAm1uuA2cFSvbl -O archive.zip\n",
        "#rozpakowywanie pliku archive.zip do katalogu data\n",
        "!tar -xf archive.zip -d data"
      ]
    },
    {
      "cell_type": "markdown",
      "source": [
        "## Wczytanie bibliotek"
      ],
      "metadata": {
        "id": "XO4dCcvwvt6S"
      }
    },
    {
      "cell_type": "code",
      "source": [
        "import pandas as pd\n",
        "import numpy as np\n",
        "import matplotlib.pyplot as plt\n",
        "import seaborn as sns\n",
        "\n",
        "from sklearn.preprocessing import StandardScaler\n",
        "from sklearn.model_selection import train_test_split, GridSearchCV\n",
        "from sklearn.linear_model import Perceptron\n",
        "from sklearn.metrics import accuracy_score, confusion_matrix\n",
        "from sklearn.neighbors import KNeighborsClassifier\n",
        "from sklearn.svm import SVC"
      ],
      "metadata": {
        "id": "O692oDqRvxSb"
      },
      "execution_count": null,
      "outputs": []
    },
    {
      "cell_type": "markdown",
      "source": [
        "## Wczytanie zbioru danych"
      ],
      "metadata": {
        "id": "S4chp085v2D0"
      }
    },
    {
      "cell_type": "code",
      "source": [
        "# Wczytanie pliku csv do dataframu\n",
        "data = pd.read_csv('data/Iris.csv')\n",
        "\n",
        "# Wyświetlenie pierwszych pięciu wierszy w celu sprawdzenia poprawności wczytanego kodu\n",
        "data.head()"
      ],
      "metadata": {
        "colab": {
          "base_uri": "https://localhost:8080/"
        },
        "id": "fZxLiXqxv4vS",
        "outputId": "95fa5666-6e79-4f7b-caee-8835b00e445c"
      },
      "execution_count": null,
      "outputs": [
        {
          "output_type": "execute_result",
          "data": {
            "text/plain": [
              "   Id  SepalLengthCm  SepalWidthCm  PetalLengthCm  PetalWidthCm      Species\n",
              "0   1            5.1           3.5            1.4           0.2  Iris-setosa\n",
              "1   2            4.9           3.0            1.4           0.2  Iris-setosa\n",
              "2   3            4.7           3.2            1.3           0.2  Iris-setosa\n",
              "3   4            4.6           3.1            1.5           0.2  Iris-setosa\n",
              "4   5            5.0           3.6            1.4           0.2  Iris-setosa"
            ],
            "text/html": [
              "\n",
              "  <div id=\"df-1baec0b8-2579-4098-85af-360edfda42ca\" class=\"colab-df-container\">\n",
              "    <div>\n",
              "<style scoped>\n",
              "    .dataframe tbody tr th:only-of-type {\n",
              "        vertical-align: middle;\n",
              "    }\n",
              "\n",
              "    .dataframe tbody tr th {\n",
              "        vertical-align: top;\n",
              "    }\n",
              "\n",
              "    .dataframe thead th {\n",
              "        text-align: right;\n",
              "    }\n",
              "</style>\n",
              "<table border=\"1\" class=\"dataframe\">\n",
              "  <thead>\n",
              "    <tr style=\"text-align: right;\">\n",
              "      <th></th>\n",
              "      <th>Id</th>\n",
              "      <th>SepalLengthCm</th>\n",
              "      <th>SepalWidthCm</th>\n",
              "      <th>PetalLengthCm</th>\n",
              "      <th>PetalWidthCm</th>\n",
              "      <th>Species</th>\n",
              "    </tr>\n",
              "  </thead>\n",
              "  <tbody>\n",
              "    <tr>\n",
              "      <th>0</th>\n",
              "      <td>1</td>\n",
              "      <td>5.1</td>\n",
              "      <td>3.5</td>\n",
              "      <td>1.4</td>\n",
              "      <td>0.2</td>\n",
              "      <td>Iris-setosa</td>\n",
              "    </tr>\n",
              "    <tr>\n",
              "      <th>1</th>\n",
              "      <td>2</td>\n",
              "      <td>4.9</td>\n",
              "      <td>3.0</td>\n",
              "      <td>1.4</td>\n",
              "      <td>0.2</td>\n",
              "      <td>Iris-setosa</td>\n",
              "    </tr>\n",
              "    <tr>\n",
              "      <th>2</th>\n",
              "      <td>3</td>\n",
              "      <td>4.7</td>\n",
              "      <td>3.2</td>\n",
              "      <td>1.3</td>\n",
              "      <td>0.2</td>\n",
              "      <td>Iris-setosa</td>\n",
              "    </tr>\n",
              "    <tr>\n",
              "      <th>3</th>\n",
              "      <td>4</td>\n",
              "      <td>4.6</td>\n",
              "      <td>3.1</td>\n",
              "      <td>1.5</td>\n",
              "      <td>0.2</td>\n",
              "      <td>Iris-setosa</td>\n",
              "    </tr>\n",
              "    <tr>\n",
              "      <th>4</th>\n",
              "      <td>5</td>\n",
              "      <td>5.0</td>\n",
              "      <td>3.6</td>\n",
              "      <td>1.4</td>\n",
              "      <td>0.2</td>\n",
              "      <td>Iris-setosa</td>\n",
              "    </tr>\n",
              "  </tbody>\n",
              "</table>\n",
              "</div>\n",
              "    <div class=\"colab-df-buttons\">\n",
              "\n",
              "  <div class=\"colab-df-container\">\n",
              "    <button class=\"colab-df-convert\" onclick=\"convertToInteractive('df-1baec0b8-2579-4098-85af-360edfda42ca')\"\n",
              "            title=\"Convert this dataframe to an interactive table.\"\n",
              "            style=\"display:none;\">\n",
              "\n",
              "  <svg xmlns=\"http://www.w3.org/2000/svg\" height=\"24px\" viewBox=\"0 -960 960 960\">\n",
              "    <path d=\"M120-120v-720h720v720H120Zm60-500h600v-160H180v160Zm220 220h160v-160H400v160Zm0 220h160v-160H400v160ZM180-400h160v-160H180v160Zm440 0h160v-160H620v160ZM180-180h160v-160H180v160Zm440 0h160v-160H620v160Z\"/>\n",
              "  </svg>\n",
              "    </button>\n",
              "\n",
              "  <style>\n",
              "    .colab-df-container {\n",
              "      display:flex;\n",
              "      gap: 12px;\n",
              "    }\n",
              "\n",
              "    .colab-df-convert {\n",
              "      background-color: #E8F0FE;\n",
              "      border: none;\n",
              "      border-radius: 50%;\n",
              "      cursor: pointer;\n",
              "      display: none;\n",
              "      fill: #1967D2;\n",
              "      height: 32px;\n",
              "      padding: 0 0 0 0;\n",
              "      width: 32px;\n",
              "    }\n",
              "\n",
              "    .colab-df-convert:hover {\n",
              "      background-color: #E2EBFA;\n",
              "      box-shadow: 0px 1px 2px rgba(60, 64, 67, 0.3), 0px 1px 3px 1px rgba(60, 64, 67, 0.15);\n",
              "      fill: #174EA6;\n",
              "    }\n",
              "\n",
              "    .colab-df-buttons div {\n",
              "      margin-bottom: 4px;\n",
              "    }\n",
              "\n",
              "    [theme=dark] .colab-df-convert {\n",
              "      background-color: #3B4455;\n",
              "      fill: #D2E3FC;\n",
              "    }\n",
              "\n",
              "    [theme=dark] .colab-df-convert:hover {\n",
              "      background-color: #434B5C;\n",
              "      box-shadow: 0px 1px 3px 1px rgba(0, 0, 0, 0.15);\n",
              "      filter: drop-shadow(0px 1px 2px rgba(0, 0, 0, 0.3));\n",
              "      fill: #FFFFFF;\n",
              "    }\n",
              "  </style>\n",
              "\n",
              "    <script>\n",
              "      const buttonEl =\n",
              "        document.querySelector('#df-1baec0b8-2579-4098-85af-360edfda42ca button.colab-df-convert');\n",
              "      buttonEl.style.display =\n",
              "        google.colab.kernel.accessAllowed ? 'block' : 'none';\n",
              "\n",
              "      async function convertToInteractive(key) {\n",
              "        const element = document.querySelector('#df-1baec0b8-2579-4098-85af-360edfda42ca');\n",
              "        const dataTable =\n",
              "          await google.colab.kernel.invokeFunction('convertToInteractive',\n",
              "                                                    [key], {});\n",
              "        if (!dataTable) return;\n",
              "\n",
              "        const docLinkHtml = 'Like what you see? Visit the ' +\n",
              "          '<a target=\"_blank\" href=https://colab.research.google.com/notebooks/data_table.ipynb>data table notebook</a>'\n",
              "          + ' to learn more about interactive tables.';\n",
              "        element.innerHTML = '';\n",
              "        dataTable['output_type'] = 'display_data';\n",
              "        await google.colab.output.renderOutput(dataTable, element);\n",
              "        const docLink = document.createElement('div');\n",
              "        docLink.innerHTML = docLinkHtml;\n",
              "        element.appendChild(docLink);\n",
              "      }\n",
              "    </script>\n",
              "  </div>\n",
              "\n",
              "\n",
              "<div id=\"df-0b864417-2ee1-4ef1-8733-269bfcc11222\">\n",
              "  <button class=\"colab-df-quickchart\" onclick=\"quickchart('df-0b864417-2ee1-4ef1-8733-269bfcc11222')\"\n",
              "            title=\"Suggest charts\"\n",
              "            style=\"display:none;\">\n",
              "\n",
              "<svg xmlns=\"http://www.w3.org/2000/svg\" height=\"24px\"viewBox=\"0 0 24 24\"\n",
              "     width=\"24px\">\n",
              "    <g>\n",
              "        <path d=\"M19 3H5c-1.1 0-2 .9-2 2v14c0 1.1.9 2 2 2h14c1.1 0 2-.9 2-2V5c0-1.1-.9-2-2-2zM9 17H7v-7h2v7zm4 0h-2V7h2v10zm4 0h-2v-4h2v4z\"/>\n",
              "    </g>\n",
              "</svg>\n",
              "  </button>\n",
              "\n",
              "<style>\n",
              "  .colab-df-quickchart {\n",
              "      --bg-color: #E8F0FE;\n",
              "      --fill-color: #1967D2;\n",
              "      --hover-bg-color: #E2EBFA;\n",
              "      --hover-fill-color: #174EA6;\n",
              "      --disabled-fill-color: #AAA;\n",
              "      --disabled-bg-color: #DDD;\n",
              "  }\n",
              "\n",
              "  [theme=dark] .colab-df-quickchart {\n",
              "      --bg-color: #3B4455;\n",
              "      --fill-color: #D2E3FC;\n",
              "      --hover-bg-color: #434B5C;\n",
              "      --hover-fill-color: #FFFFFF;\n",
              "      --disabled-bg-color: #3B4455;\n",
              "      --disabled-fill-color: #666;\n",
              "  }\n",
              "\n",
              "  .colab-df-quickchart {\n",
              "    background-color: var(--bg-color);\n",
              "    border: none;\n",
              "    border-radius: 50%;\n",
              "    cursor: pointer;\n",
              "    display: none;\n",
              "    fill: var(--fill-color);\n",
              "    height: 32px;\n",
              "    padding: 0;\n",
              "    width: 32px;\n",
              "  }\n",
              "\n",
              "  .colab-df-quickchart:hover {\n",
              "    background-color: var(--hover-bg-color);\n",
              "    box-shadow: 0 1px 2px rgba(60, 64, 67, 0.3), 0 1px 3px 1px rgba(60, 64, 67, 0.15);\n",
              "    fill: var(--button-hover-fill-color);\n",
              "  }\n",
              "\n",
              "  .colab-df-quickchart-complete:disabled,\n",
              "  .colab-df-quickchart-complete:disabled:hover {\n",
              "    background-color: var(--disabled-bg-color);\n",
              "    fill: var(--disabled-fill-color);\n",
              "    box-shadow: none;\n",
              "  }\n",
              "\n",
              "  .colab-df-spinner {\n",
              "    border: 2px solid var(--fill-color);\n",
              "    border-color: transparent;\n",
              "    border-bottom-color: var(--fill-color);\n",
              "    animation:\n",
              "      spin 1s steps(1) infinite;\n",
              "  }\n",
              "\n",
              "  @keyframes spin {\n",
              "    0% {\n",
              "      border-color: transparent;\n",
              "      border-bottom-color: var(--fill-color);\n",
              "      border-left-color: var(--fill-color);\n",
              "    }\n",
              "    20% {\n",
              "      border-color: transparent;\n",
              "      border-left-color: var(--fill-color);\n",
              "      border-top-color: var(--fill-color);\n",
              "    }\n",
              "    30% {\n",
              "      border-color: transparent;\n",
              "      border-left-color: var(--fill-color);\n",
              "      border-top-color: var(--fill-color);\n",
              "      border-right-color: var(--fill-color);\n",
              "    }\n",
              "    40% {\n",
              "      border-color: transparent;\n",
              "      border-right-color: var(--fill-color);\n",
              "      border-top-color: var(--fill-color);\n",
              "    }\n",
              "    60% {\n",
              "      border-color: transparent;\n",
              "      border-right-color: var(--fill-color);\n",
              "    }\n",
              "    80% {\n",
              "      border-color: transparent;\n",
              "      border-right-color: var(--fill-color);\n",
              "      border-bottom-color: var(--fill-color);\n",
              "    }\n",
              "    90% {\n",
              "      border-color: transparent;\n",
              "      border-bottom-color: var(--fill-color);\n",
              "    }\n",
              "  }\n",
              "</style>\n",
              "\n",
              "  <script>\n",
              "    async function quickchart(key) {\n",
              "      const quickchartButtonEl =\n",
              "        document.querySelector('#' + key + ' button');\n",
              "      quickchartButtonEl.disabled = true;  // To prevent multiple clicks.\n",
              "      quickchartButtonEl.classList.add('colab-df-spinner');\n",
              "      try {\n",
              "        const charts = await google.colab.kernel.invokeFunction(\n",
              "            'suggestCharts', [key], {});\n",
              "      } catch (error) {\n",
              "        console.error('Error during call to suggestCharts:', error);\n",
              "      }\n",
              "      quickchartButtonEl.classList.remove('colab-df-spinner');\n",
              "      quickchartButtonEl.classList.add('colab-df-quickchart-complete');\n",
              "    }\n",
              "    (() => {\n",
              "      let quickchartButtonEl =\n",
              "        document.querySelector('#df-0b864417-2ee1-4ef1-8733-269bfcc11222 button');\n",
              "      quickchartButtonEl.style.display =\n",
              "        google.colab.kernel.accessAllowed ? 'block' : 'none';\n",
              "    })();\n",
              "  </script>\n",
              "</div>\n",
              "    </div>\n",
              "  </div>\n"
            ],
            "application/vnd.google.colaboratory.intrinsic+json": {
              "type": "dataframe",
              "variable_name": "data",
              "summary": "{\n  \"name\": \"data\",\n  \"rows\": 150,\n  \"fields\": [\n    {\n      \"column\": \"Id\",\n      \"properties\": {\n        \"dtype\": \"number\",\n        \"std\": 43,\n        \"min\": 1,\n        \"max\": 150,\n        \"num_unique_values\": 150,\n        \"samples\": [\n          74,\n          19,\n          119\n        ],\n        \"semantic_type\": \"\",\n        \"description\": \"\"\n      }\n    },\n    {\n      \"column\": \"SepalLengthCm\",\n      \"properties\": {\n        \"dtype\": \"number\",\n        \"std\": 0.828066127977863,\n        \"min\": 4.3,\n        \"max\": 7.9,\n        \"num_unique_values\": 35,\n        \"samples\": [\n          6.2,\n          4.5,\n          5.6\n        ],\n        \"semantic_type\": \"\",\n        \"description\": \"\"\n      }\n    },\n    {\n      \"column\": \"SepalWidthCm\",\n      \"properties\": {\n        \"dtype\": \"number\",\n        \"std\": 0.4335943113621737,\n        \"min\": 2.0,\n        \"max\": 4.4,\n        \"num_unique_values\": 23,\n        \"samples\": [\n          2.3,\n          4.0,\n          3.5\n        ],\n        \"semantic_type\": \"\",\n        \"description\": \"\"\n      }\n    },\n    {\n      \"column\": \"PetalLengthCm\",\n      \"properties\": {\n        \"dtype\": \"number\",\n        \"std\": 1.7644204199522626,\n        \"min\": 1.0,\n        \"max\": 6.9,\n        \"num_unique_values\": 43,\n        \"samples\": [\n          6.7,\n          3.8,\n          3.7\n        ],\n        \"semantic_type\": \"\",\n        \"description\": \"\"\n      }\n    },\n    {\n      \"column\": \"PetalWidthCm\",\n      \"properties\": {\n        \"dtype\": \"number\",\n        \"std\": 0.7631607417008411,\n        \"min\": 0.1,\n        \"max\": 2.5,\n        \"num_unique_values\": 22,\n        \"samples\": [\n          0.2,\n          1.2,\n          1.3\n        ],\n        \"semantic_type\": \"\",\n        \"description\": \"\"\n      }\n    },\n    {\n      \"column\": \"Species\",\n      \"properties\": {\n        \"dtype\": \"category\",\n        \"num_unique_values\": 3,\n        \"samples\": [\n          \"Iris-setosa\",\n          \"Iris-versicolor\",\n          \"Iris-virginica\"\n        ],\n        \"semantic_type\": \"\",\n        \"description\": \"\"\n      }\n    }\n  ]\n}"
            }
          },
          "metadata": {},
          "execution_count": 6
        }
      ]
    },
    {
      "cell_type": "markdown",
      "source": [
        "### Opis kolumn"
      ],
      "metadata": {
        "id": "veLOC7YMwI49"
      }
    },
    {
      "cell_type": "markdown",
      "source": [
        "* SepalLengthCm - Długosc kielicha w cm\n",
        "* SepalWidthCm - Szerokosc kielicha w cm\n",
        "* PetalLengthCm\t- Dlugosc płatka w cm\n",
        "* PetalWidthCm - Szerokosc płatka w cm\n",
        "* Species - Garunek Irysa"
      ],
      "metadata": {
        "id": "2DC61Oh9wLP0"
      }
    },
    {
      "cell_type": "markdown",
      "source": [
        "## Analiza podstawowych statystyk"
      ],
      "metadata": {
        "id": "8D-2LDKqwoWC"
      }
    },
    {
      "cell_type": "markdown",
      "source": [
        "### Liczba obserwacji i cech"
      ],
      "metadata": {
        "id": "lrUNN7LIwtYs"
      }
    },
    {
      "cell_type": "code",
      "source": [
        "# Liczba obserwacji\n",
        "print(f'Liczba obserwacji {len(data)}')\n",
        "\n",
        "# Liczba cech\n",
        "print(f'Liczba kolumn {len(data.columns)}')"
      ],
      "metadata": {
        "colab": {
          "base_uri": "https://localhost:8080/"
        },
        "id": "IamBu9uBxUGS",
        "outputId": "0bcfd42f-63f0-4382-be3d-eccd6becd20a"
      },
      "execution_count": null,
      "outputs": [
        {
          "output_type": "stream",
          "name": "stdout",
          "text": [
            "Liczba obserwacji 150\n",
            "Liczba kolumn 6\n"
          ]
        }
      ]
    },
    {
      "cell_type": "code",
      "source": [
        "# Liczba probek kazdego gatunku\n",
        "data[\"Species\"].value_counts()"
      ],
      "metadata": {
        "colab": {
          "base_uri": "https://localhost:8080/"
        },
        "id": "fylGo6vE1CuM",
        "outputId": "620fd5f3-094d-45c6-9a1f-a4b624c97166"
      },
      "execution_count": null,
      "outputs": [
        {
          "output_type": "execute_result",
          "data": {
            "text/plain": [
              "Iris-setosa        50\n",
              "Iris-versicolor    50\n",
              "Iris-virginica     50\n",
              "Name: Species, dtype: int64"
            ]
          },
          "metadata": {},
          "execution_count": 19
        }
      ]
    },
    {
      "cell_type": "markdown",
      "source": [
        "### Statystyki opisowe"
      ],
      "metadata": {
        "id": "Uim7mWKnyXPA"
      }
    },
    {
      "cell_type": "code",
      "source": [
        "# Statystyki takie jak mediana, odchylenie itp dla każdej z kolumn\n",
        "data.describe()"
      ],
      "metadata": {
        "colab": {
          "base_uri": "https://localhost:8080/",
          "height": 300
        },
        "id": "O6-ToQ5Gyb9T",
        "outputId": "d316268d-addf-49b9-f9f8-ef5bc25c8c75"
      },
      "execution_count": null,
      "outputs": [
        {
          "output_type": "execute_result",
          "data": {
            "text/plain": [
              "       SepalLengthCm  SepalWidthCm  PetalLengthCm  PetalWidthCm\n",
              "count     150.000000    150.000000     150.000000    150.000000\n",
              "mean        5.843333      3.054000       3.758667      1.198667\n",
              "std         0.828066      0.433594       1.764420      0.763161\n",
              "min         4.300000      2.000000       1.000000      0.100000\n",
              "25%         5.100000      2.800000       1.600000      0.300000\n",
              "50%         5.800000      3.000000       4.350000      1.300000\n",
              "75%         6.400000      3.300000       5.100000      1.800000\n",
              "max         7.900000      4.400000       6.900000      2.500000"
            ],
            "text/html": [
              "\n",
              "  <div id=\"df-1dbc98bf-5a5c-4242-b59d-2e3f75c1dcec\" class=\"colab-df-container\">\n",
              "    <div>\n",
              "<style scoped>\n",
              "    .dataframe tbody tr th:only-of-type {\n",
              "        vertical-align: middle;\n",
              "    }\n",
              "\n",
              "    .dataframe tbody tr th {\n",
              "        vertical-align: top;\n",
              "    }\n",
              "\n",
              "    .dataframe thead th {\n",
              "        text-align: right;\n",
              "    }\n",
              "</style>\n",
              "<table border=\"1\" class=\"dataframe\">\n",
              "  <thead>\n",
              "    <tr style=\"text-align: right;\">\n",
              "      <th></th>\n",
              "      <th>SepalLengthCm</th>\n",
              "      <th>SepalWidthCm</th>\n",
              "      <th>PetalLengthCm</th>\n",
              "      <th>PetalWidthCm</th>\n",
              "    </tr>\n",
              "  </thead>\n",
              "  <tbody>\n",
              "    <tr>\n",
              "      <th>count</th>\n",
              "      <td>150.000000</td>\n",
              "      <td>150.000000</td>\n",
              "      <td>150.000000</td>\n",
              "      <td>150.000000</td>\n",
              "    </tr>\n",
              "    <tr>\n",
              "      <th>mean</th>\n",
              "      <td>5.843333</td>\n",
              "      <td>3.054000</td>\n",
              "      <td>3.758667</td>\n",
              "      <td>1.198667</td>\n",
              "    </tr>\n",
              "    <tr>\n",
              "      <th>std</th>\n",
              "      <td>0.828066</td>\n",
              "      <td>0.433594</td>\n",
              "      <td>1.764420</td>\n",
              "      <td>0.763161</td>\n",
              "    </tr>\n",
              "    <tr>\n",
              "      <th>min</th>\n",
              "      <td>4.300000</td>\n",
              "      <td>2.000000</td>\n",
              "      <td>1.000000</td>\n",
              "      <td>0.100000</td>\n",
              "    </tr>\n",
              "    <tr>\n",
              "      <th>25%</th>\n",
              "      <td>5.100000</td>\n",
              "      <td>2.800000</td>\n",
              "      <td>1.600000</td>\n",
              "      <td>0.300000</td>\n",
              "    </tr>\n",
              "    <tr>\n",
              "      <th>50%</th>\n",
              "      <td>5.800000</td>\n",
              "      <td>3.000000</td>\n",
              "      <td>4.350000</td>\n",
              "      <td>1.300000</td>\n",
              "    </tr>\n",
              "    <tr>\n",
              "      <th>75%</th>\n",
              "      <td>6.400000</td>\n",
              "      <td>3.300000</td>\n",
              "      <td>5.100000</td>\n",
              "      <td>1.800000</td>\n",
              "    </tr>\n",
              "    <tr>\n",
              "      <th>max</th>\n",
              "      <td>7.900000</td>\n",
              "      <td>4.400000</td>\n",
              "      <td>6.900000</td>\n",
              "      <td>2.500000</td>\n",
              "    </tr>\n",
              "  </tbody>\n",
              "</table>\n",
              "</div>\n",
              "    <div class=\"colab-df-buttons\">\n",
              "\n",
              "  <div class=\"colab-df-container\">\n",
              "    <button class=\"colab-df-convert\" onclick=\"convertToInteractive('df-1dbc98bf-5a5c-4242-b59d-2e3f75c1dcec')\"\n",
              "            title=\"Convert this dataframe to an interactive table.\"\n",
              "            style=\"display:none;\">\n",
              "\n",
              "  <svg xmlns=\"http://www.w3.org/2000/svg\" height=\"24px\" viewBox=\"0 -960 960 960\">\n",
              "    <path d=\"M120-120v-720h720v720H120Zm60-500h600v-160H180v160Zm220 220h160v-160H400v160Zm0 220h160v-160H400v160ZM180-400h160v-160H180v160Zm440 0h160v-160H620v160ZM180-180h160v-160H180v160Zm440 0h160v-160H620v160Z\"/>\n",
              "  </svg>\n",
              "    </button>\n",
              "\n",
              "  <style>\n",
              "    .colab-df-container {\n",
              "      display:flex;\n",
              "      gap: 12px;\n",
              "    }\n",
              "\n",
              "    .colab-df-convert {\n",
              "      background-color: #E8F0FE;\n",
              "      border: none;\n",
              "      border-radius: 50%;\n",
              "      cursor: pointer;\n",
              "      display: none;\n",
              "      fill: #1967D2;\n",
              "      height: 32px;\n",
              "      padding: 0 0 0 0;\n",
              "      width: 32px;\n",
              "    }\n",
              "\n",
              "    .colab-df-convert:hover {\n",
              "      background-color: #E2EBFA;\n",
              "      box-shadow: 0px 1px 2px rgba(60, 64, 67, 0.3), 0px 1px 3px 1px rgba(60, 64, 67, 0.15);\n",
              "      fill: #174EA6;\n",
              "    }\n",
              "\n",
              "    .colab-df-buttons div {\n",
              "      margin-bottom: 4px;\n",
              "    }\n",
              "\n",
              "    [theme=dark] .colab-df-convert {\n",
              "      background-color: #3B4455;\n",
              "      fill: #D2E3FC;\n",
              "    }\n",
              "\n",
              "    [theme=dark] .colab-df-convert:hover {\n",
              "      background-color: #434B5C;\n",
              "      box-shadow: 0px 1px 3px 1px rgba(0, 0, 0, 0.15);\n",
              "      filter: drop-shadow(0px 1px 2px rgba(0, 0, 0, 0.3));\n",
              "      fill: #FFFFFF;\n",
              "    }\n",
              "  </style>\n",
              "\n",
              "    <script>\n",
              "      const buttonEl =\n",
              "        document.querySelector('#df-1dbc98bf-5a5c-4242-b59d-2e3f75c1dcec button.colab-df-convert');\n",
              "      buttonEl.style.display =\n",
              "        google.colab.kernel.accessAllowed ? 'block' : 'none';\n",
              "\n",
              "      async function convertToInteractive(key) {\n",
              "        const element = document.querySelector('#df-1dbc98bf-5a5c-4242-b59d-2e3f75c1dcec');\n",
              "        const dataTable =\n",
              "          await google.colab.kernel.invokeFunction('convertToInteractive',\n",
              "                                                    [key], {});\n",
              "        if (!dataTable) return;\n",
              "\n",
              "        const docLinkHtml = 'Like what you see? Visit the ' +\n",
              "          '<a target=\"_blank\" href=https://colab.research.google.com/notebooks/data_table.ipynb>data table notebook</a>'\n",
              "          + ' to learn more about interactive tables.';\n",
              "        element.innerHTML = '';\n",
              "        dataTable['output_type'] = 'display_data';\n",
              "        await google.colab.output.renderOutput(dataTable, element);\n",
              "        const docLink = document.createElement('div');\n",
              "        docLink.innerHTML = docLinkHtml;\n",
              "        element.appendChild(docLink);\n",
              "      }\n",
              "    </script>\n",
              "  </div>\n",
              "\n",
              "\n",
              "<div id=\"df-444738e4-2bf3-476c-8dce-2b5cf4548337\">\n",
              "  <button class=\"colab-df-quickchart\" onclick=\"quickchart('df-444738e4-2bf3-476c-8dce-2b5cf4548337')\"\n",
              "            title=\"Suggest charts\"\n",
              "            style=\"display:none;\">\n",
              "\n",
              "<svg xmlns=\"http://www.w3.org/2000/svg\" height=\"24px\"viewBox=\"0 0 24 24\"\n",
              "     width=\"24px\">\n",
              "    <g>\n",
              "        <path d=\"M19 3H5c-1.1 0-2 .9-2 2v14c0 1.1.9 2 2 2h14c1.1 0 2-.9 2-2V5c0-1.1-.9-2-2-2zM9 17H7v-7h2v7zm4 0h-2V7h2v10zm4 0h-2v-4h2v4z\"/>\n",
              "    </g>\n",
              "</svg>\n",
              "  </button>\n",
              "\n",
              "<style>\n",
              "  .colab-df-quickchart {\n",
              "      --bg-color: #E8F0FE;\n",
              "      --fill-color: #1967D2;\n",
              "      --hover-bg-color: #E2EBFA;\n",
              "      --hover-fill-color: #174EA6;\n",
              "      --disabled-fill-color: #AAA;\n",
              "      --disabled-bg-color: #DDD;\n",
              "  }\n",
              "\n",
              "  [theme=dark] .colab-df-quickchart {\n",
              "      --bg-color: #3B4455;\n",
              "      --fill-color: #D2E3FC;\n",
              "      --hover-bg-color: #434B5C;\n",
              "      --hover-fill-color: #FFFFFF;\n",
              "      --disabled-bg-color: #3B4455;\n",
              "      --disabled-fill-color: #666;\n",
              "  }\n",
              "\n",
              "  .colab-df-quickchart {\n",
              "    background-color: var(--bg-color);\n",
              "    border: none;\n",
              "    border-radius: 50%;\n",
              "    cursor: pointer;\n",
              "    display: none;\n",
              "    fill: var(--fill-color);\n",
              "    height: 32px;\n",
              "    padding: 0;\n",
              "    width: 32px;\n",
              "  }\n",
              "\n",
              "  .colab-df-quickchart:hover {\n",
              "    background-color: var(--hover-bg-color);\n",
              "    box-shadow: 0 1px 2px rgba(60, 64, 67, 0.3), 0 1px 3px 1px rgba(60, 64, 67, 0.15);\n",
              "    fill: var(--button-hover-fill-color);\n",
              "  }\n",
              "\n",
              "  .colab-df-quickchart-complete:disabled,\n",
              "  .colab-df-quickchart-complete:disabled:hover {\n",
              "    background-color: var(--disabled-bg-color);\n",
              "    fill: var(--disabled-fill-color);\n",
              "    box-shadow: none;\n",
              "  }\n",
              "\n",
              "  .colab-df-spinner {\n",
              "    border: 2px solid var(--fill-color);\n",
              "    border-color: transparent;\n",
              "    border-bottom-color: var(--fill-color);\n",
              "    animation:\n",
              "      spin 1s steps(1) infinite;\n",
              "  }\n",
              "\n",
              "  @keyframes spin {\n",
              "    0% {\n",
              "      border-color: transparent;\n",
              "      border-bottom-color: var(--fill-color);\n",
              "      border-left-color: var(--fill-color);\n",
              "    }\n",
              "    20% {\n",
              "      border-color: transparent;\n",
              "      border-left-color: var(--fill-color);\n",
              "      border-top-color: var(--fill-color);\n",
              "    }\n",
              "    30% {\n",
              "      border-color: transparent;\n",
              "      border-left-color: var(--fill-color);\n",
              "      border-top-color: var(--fill-color);\n",
              "      border-right-color: var(--fill-color);\n",
              "    }\n",
              "    40% {\n",
              "      border-color: transparent;\n",
              "      border-right-color: var(--fill-color);\n",
              "      border-top-color: var(--fill-color);\n",
              "    }\n",
              "    60% {\n",
              "      border-color: transparent;\n",
              "      border-right-color: var(--fill-color);\n",
              "    }\n",
              "    80% {\n",
              "      border-color: transparent;\n",
              "      border-right-color: var(--fill-color);\n",
              "      border-bottom-color: var(--fill-color);\n",
              "    }\n",
              "    90% {\n",
              "      border-color: transparent;\n",
              "      border-bottom-color: var(--fill-color);\n",
              "    }\n",
              "  }\n",
              "</style>\n",
              "\n",
              "  <script>\n",
              "    async function quickchart(key) {\n",
              "      const quickchartButtonEl =\n",
              "        document.querySelector('#' + key + ' button');\n",
              "      quickchartButtonEl.disabled = true;  // To prevent multiple clicks.\n",
              "      quickchartButtonEl.classList.add('colab-df-spinner');\n",
              "      try {\n",
              "        const charts = await google.colab.kernel.invokeFunction(\n",
              "            'suggestCharts', [key], {});\n",
              "      } catch (error) {\n",
              "        console.error('Error during call to suggestCharts:', error);\n",
              "      }\n",
              "      quickchartButtonEl.classList.remove('colab-df-spinner');\n",
              "      quickchartButtonEl.classList.add('colab-df-quickchart-complete');\n",
              "    }\n",
              "    (() => {\n",
              "      let quickchartButtonEl =\n",
              "        document.querySelector('#df-444738e4-2bf3-476c-8dce-2b5cf4548337 button');\n",
              "      quickchartButtonEl.style.display =\n",
              "        google.colab.kernel.accessAllowed ? 'block' : 'none';\n",
              "    })();\n",
              "  </script>\n",
              "</div>\n",
              "    </div>\n",
              "  </div>\n"
            ],
            "application/vnd.google.colaboratory.intrinsic+json": {
              "type": "dataframe",
              "summary": "{\n  \"name\": \"data\",\n  \"rows\": 8,\n  \"fields\": [\n    {\n      \"column\": \"SepalLengthCm\",\n      \"properties\": {\n        \"dtype\": \"number\",\n        \"std\": 51.24711349471842,\n        \"min\": 0.828066127977863,\n        \"max\": 150.0,\n        \"num_unique_values\": 8,\n        \"samples\": [\n          5.843333333333334,\n          5.8,\n          150.0\n        ],\n        \"semantic_type\": \"\",\n        \"description\": \"\"\n      }\n    },\n    {\n      \"column\": \"SepalWidthCm\",\n      \"properties\": {\n        \"dtype\": \"number\",\n        \"std\": 52.08647211421483,\n        \"min\": 0.4335943113621737,\n        \"max\": 150.0,\n        \"num_unique_values\": 8,\n        \"samples\": [\n          3.0540000000000003,\n          3.0,\n          150.0\n        ],\n        \"semantic_type\": \"\",\n        \"description\": \"\"\n      }\n    },\n    {\n      \"column\": \"PetalLengthCm\",\n      \"properties\": {\n        \"dtype\": \"number\",\n        \"std\": 51.835227940958106,\n        \"min\": 1.0,\n        \"max\": 150.0,\n        \"num_unique_values\": 8,\n        \"samples\": [\n          3.758666666666666,\n          4.35,\n          150.0\n        ],\n        \"semantic_type\": \"\",\n        \"description\": \"\"\n      }\n    },\n    {\n      \"column\": \"PetalWidthCm\",\n      \"properties\": {\n        \"dtype\": \"number\",\n        \"std\": 52.636634243409915,\n        \"min\": 0.1,\n        \"max\": 150.0,\n        \"num_unique_values\": 8,\n        \"samples\": [\n          1.1986666666666668,\n          1.3,\n          150.0\n        ],\n        \"semantic_type\": \"\",\n        \"description\": \"\"\n      }\n    }\n  ]\n}"
            }
          },
          "metadata": {},
          "execution_count": 12
        }
      ]
    },
    {
      "cell_type": "markdown",
      "source": [
        "### Brakujace dane"
      ],
      "metadata": {
        "id": "SKS9bTdMzJO7"
      }
    },
    {
      "cell_type": "code",
      "source": [
        "# Liczba brakujacyh komorek w każdej z kolumn\n",
        "data.isnull().sum()"
      ],
      "metadata": {
        "colab": {
          "base_uri": "https://localhost:8080/"
        },
        "id": "HH0TObA3zK7E",
        "outputId": "4fac5c1d-07aa-4aff-9b5b-c5ce01246529"
      },
      "execution_count": null,
      "outputs": [
        {
          "output_type": "execute_result",
          "data": {
            "text/plain": [
              "SepalLengthCm    0\n",
              "SepalWidthCm     0\n",
              "PetalLengthCm    0\n",
              "PetalWidthCm     0\n",
              "Species          0\n",
              "dtype: int64"
            ]
          },
          "metadata": {},
          "execution_count": 13
        }
      ]
    },
    {
      "cell_type": "markdown",
      "source": [
        "### Duplikaty"
      ],
      "metadata": {
        "id": "RvFpT8IZzM5p"
      }
    },
    {
      "cell_type": "code",
      "source": [
        "# Liczba zduplikowanych komórek\n",
        "data.duplicated().sum()"
      ],
      "metadata": {
        "id": "0SgnV_QuzNYI"
      },
      "execution_count": null,
      "outputs": []
    },
    {
      "cell_type": "markdown",
      "source": [
        "Brak zduplikowanych komorek"
      ],
      "metadata": {
        "id": "PlbZb9ZuzZpd"
      }
    },
    {
      "cell_type": "markdown",
      "source": [
        "## Wizualizacja danych"
      ],
      "metadata": {
        "id": "q6AaGo7Zzjb4"
      }
    },
    {
      "cell_type": "markdown",
      "source": [
        "### Histogram cech"
      ],
      "metadata": {
        "id": "Duc77jrC8rm_"
      }
    },
    {
      "cell_type": "code",
      "source": [
        "# Wykresy histogramu każdej z cech\n",
        "for column in data.columns[1:5]:\n",
        "    plt.figure(figsize=(6, 4))\n",
        "    for species in data['Species'].unique():\n",
        "        plt.hist(data[data['Species'] == species][column], label=species)\n",
        "    plt.title(column)\n",
        "    plt.legend()\n",
        "    plt.show()"
      ],
      "metadata": {
        "colab": {
          "base_uri": "https://localhost:8080/",
          "height": 1000
        },
        "id": "NAD8i4py8tja",
        "outputId": "88888f7f-85c2-4361-d5c4-a3bc332d9176"
      },
      "execution_count": null,
      "outputs": [
        {
          "output_type": "display_data",
          "data": {
            "text/plain": [
              "<Figure size 600x400 with 1 Axes>"
            ],
            "image/png": "[encoded data removed]"
          },
          "metadata": {}
        },
        {
          "output_type": "display_data",
          "data": {
            "text/plain": [
              "<Figure size 600x400 with 1 Axes>"
            ],
            "image/png": "[encoded data removed]"
          },
          "metadata": {}
        },
        {
          "output_type": "display_data",
          "data": {
            "text/plain": [
              "<Figure size 600x400 with 1 Axes>"
            ],
            "image/png": "[encoded data removed]"
          },
          "metadata": {}
        },
        {
          "output_type": "display_data",
          "data": {
            "text/plain": [
              "<Figure size 600x400 with 1 Axes>"
            ],
            "image/png": "[encoded data removed]"
          },
          "metadata": {}
        }
      ]
    },
    {
      "cell_type": "markdown",
      "source": [
        "### Rozkład gatunkow w zaleznosci od cech"
      ],
      "metadata": {
        "id": "MihQ6T0ezlUe"
      }
    },
    {
      "cell_type": "code",
      "source": [
        "# Wykres pokazujacy rozklad gatunkow dla dlugosci i szerokosci kielicha\n",
        "sns.FacetGrid(data) \\\n",
        ".map_dataframe(sns.scatterplot, x=\"SepalLengthCm\", y=\"SepalWidthCm\", hue=\"Species\") \\\n",
        ".add_legend()\n",
        "plt.show()"
      ],
      "metadata": {
        "colab": {
          "base_uri": "https://localhost:8080/",
          "height": 307
        },
        "id": "4GMYUbg114CB",
        "outputId": "c908db4a-3aa3-46ac-c2b5-faa6cc0771ae"
      },
      "execution_count": null,
      "outputs": [
        {
          "output_type": "display_data",
          "data": {
            "text/plain": [
              "<Figure size 443x300 with 1 Axes>"
            ],
            "image/png": "[encoded data removed]"
          },
          "metadata": {}
        }
      ]
    },
    {
      "cell_type": "code",
      "source": [
        "# Wykres pokazujacy rozklad gatunkow dla dlugosci i szerokosci płatka\n",
        "sns.FacetGrid(data) \\\n",
        ".map_dataframe(sns.scatterplot, x=\"PetalLengthCm\", y=\"PetalWidthCm\", hue=\"Species\") \\\n",
        ".add_legend()\n",
        "plt.show()"
      ],
      "metadata": {
        "colab": {
          "base_uri": "https://localhost:8080/",
          "height": 307
        },
        "id": "1hzO58c23s43",
        "outputId": "b3538862-e3fb-4c2b-e6ae-7c727cbdee83"
      },
      "execution_count": null,
      "outputs": [
        {
          "output_type": "display_data",
          "data": {
            "text/plain": [
              "<Figure size 443x300 with 1 Axes>"
            ],
            "image/png": "[encoded data removed]"
          },
          "metadata": {}
        }
      ]
    },
    {
      "cell_type": "markdown",
      "source": [
        "### Rozkład wartości"
      ],
      "metadata": {
        "id": "Q0uLKtOl4-1_"
      }
    },
    {
      "cell_type": "code",
      "source": [
        "fig, axes = plt.subplots(2, 2, figsize=(12, 10))\n",
        "\n",
        "sns.boxplot(x='Species', y='SepalLengthCm', data=data, ax=axes[0, 0])\n",
        "axes[0, 0].set_title('Sepal Length')\n",
        "\n",
        "sns.boxplot(x='Species', y='SepalLengthCm', data=data, ax=axes[0, 1])\n",
        "axes[0, 1].set_title('Sepal Width')\n",
        "\n",
        "sns.boxplot(x='Species', y='PetalLengthCm', data=data, ax=axes[1, 0])\n",
        "axes[1, 0].set_title('Petal Length')\n",
        "\n",
        "sns.boxplot(x='Species', y='PetalLengthCm', data=data, ax=axes[1, 1])\n",
        "axes[1, 1].set_title('Petal Width')\n",
        "\n",
        "plt.tight_layout()\n",
        "plt.show()"
      ],
      "metadata": {
        "colab": {
          "base_uri": "https://localhost:8080/",
          "height": 943
        },
        "id": "PtWyDP1S6HnJ",
        "outputId": "8c1ca44d-cc5f-441d-c61b-87843d63d9ad"
      },
      "execution_count": null,
      "outputs": [
        {
          "output_type": "display_data",
          "data": {
            "text/plain": [
              "<Figure size 1200x1000 with 4 Axes>"
            ],
            "image/png": "[encoded data removed]"
          },
          "metadata": {}
        }
      ]
    },
    {
      "cell_type": "markdown",
      "source": [
        "### Mapa korelacji"
      ],
      "metadata": {
        "id": "r3Vgv_TJ7dfo"
      }
    },
    {
      "cell_type": "code",
      "source": [
        "# Stworzenie macierzy korelacji między cechami\n",
        "correlation_matrix = data.iloc[:, 1:5].corr()\n",
        "\n",
        "plt.figure(figsize=(10, 8))\n",
        "sns.heatmap(correlation_matrix, annot=True, cmap='coolwarm', fmt=\".2f\", linewidths=0.5)\n",
        "plt.title('Macierz korelacji')\n",
        "plt.show()"
      ],
      "metadata": {
        "colab": {
          "base_uri": "https://localhost:8080/",
          "height": 699
        },
        "id": "-SbSyLvm7gCS",
        "outputId": "427b85c7-653d-4a80-904e-ec98be8e470d"
      },
      "execution_count": null,
      "outputs": [
        {
          "output_type": "display_data",
          "data": {
            "text/plain": [
              "<Figure size 1000x800 with 2 Axes>"
            ],
            "image/png": "[encoded data removed]"
          },
          "metadata": {}
        }
      ]
    },
    {
      "cell_type": "markdown",
      "source": [
        "## Przygotwanie danych"
      ],
      "metadata": {
        "id": "18B--ykGF_mL"
      }
    },
    {
      "cell_type": "markdown",
      "source": [
        "### Podział na dane wynikowe i cechy"
      ],
      "metadata": {
        "id": "fOakGBSAGduL"
      }
    },
    {
      "cell_type": "code",
      "source": [
        "# Przypisanie cech wykorzytsanych do trenowania do zmiennej X\n",
        "X = data.iloc[:, 1:5]\n",
        "# Przypisanie wyników do zmiennej y\n",
        "y = data.loc[:, 'Species']\n",
        "# Mapowanie nazw gatunkow na wartosci liczbowe\n",
        "class_mapping = {'Iris-setosa': 0, 'Iris-versicolor': 1, 'Iris-virginica':2}\n",
        "y = y.map(class_mapping)"
      ],
      "metadata": {
        "id": "_FI9q22iGNFM"
      },
      "execution_count": null,
      "outputs": []
    },
    {
      "cell_type": "markdown",
      "source": [
        "### Standaryzacja danych"
      ],
      "metadata": {
        "id": "dXiPGqgqISrU"
      }
    },
    {
      "cell_type": "code",
      "source": [
        "# Utworzenie obiektu scalera i standaryzacja danych żeby uniknąć zbyt dużych wag\n",
        "scaler = StandardScaler()\n",
        "scaler.fit(X)\n",
        "X = scaler.transform(X)"
      ],
      "metadata": {
        "id": "v-DXD079IVCq"
      },
      "execution_count": null,
      "outputs": []
    },
    {
      "cell_type": "markdown",
      "source": [
        "### Podział na dane uczące i testowe"
      ],
      "metadata": {
        "id": "bhvDI0M7JILc"
      }
    },
    {
      "cell_type": "code",
      "source": [
        "# Podział na dane trenujące i testowe proporcja 70:30 z przetsowaniem danych\n",
        "# Dodanie random seed żeby zapewnić powtarzalność wyników\n",
        "X_train, X_test, y_train, y_test = train_test_split(X, y, test_size=0.3, random_state=1)"
      ],
      "metadata": {
        "id": "l-FcgdsGJHt8"
      },
      "execution_count": null,
      "outputs": []
    },
    {
      "cell_type": "markdown",
      "source": [
        "# Trenowanie modelu"
      ],
      "metadata": {
        "id": "PPK0M_xWJUbs"
      }
    },
    {
      "cell_type": "markdown",
      "source": [
        "## Perceptron"
      ],
      "metadata": {
        "id": "iZrn2bJQJXmL"
      }
    },
    {
      "cell_type": "markdown",
      "source": [
        "### Trenowanie modelu"
      ],
      "metadata": {
        "id": "SUD39M6JJcbo"
      }
    },
    {
      "cell_type": "code",
      "source": [
        "perceptron = Perceptron()\n",
        "\n",
        "# Definicja siatki hiperparametrów do przeszukania\n",
        "param_grid = {\n",
        "    'penalty': ['l1', 'l2', 'elasticnet'],\n",
        "    'alpha': [0.0001, 0.001, 0.01],\n",
        "    'max_iter': [100, 500, 1000]\n",
        "}\n",
        "\n",
        "# Przeszukiwanie siatki hiperparametrów\n",
        "grid_search = GridSearchCV(perceptron, param_grid, cv=5)\n",
        "grid_search.fit(X_train, y_train)\n",
        "\n",
        "# Najlepsze znalezione parametry\n",
        "best_params_ppn = grid_search.best_params_\n",
        "print(f\"Najlepsze parametry: {best_params_ppn}\")\n",
        "\n",
        "# Dopasowanie modelu z najlepszymi parametrami\n",
        "best_perceptron = grid_search.best_estimator_\n",
        "y_pred = best_perceptron.predict(X_test)"
      ],
      "metadata": {
        "colab": {
          "base_uri": "https://localhost:8080/"
        },
        "id": "ED5NCI8UQqrZ",
        "outputId": "4e22f19f-9486-4edc-c5ed-e3f364dc8779"
      },
      "execution_count": null,
      "outputs": [
        {
          "output_type": "stream",
          "name": "stdout",
          "text": [
            "Najlepsze parametry: {'alpha': 0.0001, 'max_iter': 100, 'penalty': 'elasticnet'}\n"
          ]
        }
      ]
    },
    {
      "cell_type": "markdown",
      "source": [
        "### Ocena modelu"
      ],
      "metadata": {
        "id": "2BgDT0JxNByR"
      }
    },
    {
      "cell_type": "code",
      "source": [
        "# Dokładność modelu na zbiorze testowym\n",
        "ppn_accuracy = accuracy_score(y_test, y_pred)\n",
        "print(f\"Dokładność modelu: {ppn_accuracy:.2f}\")\n",
        "\n",
        "# Macierz pomyłek\n",
        "ppn_matrix = confusion_matrix(y_test, y_pred)\n",
        "print(ppn_matrix)"
      ],
      "metadata": {
        "id": "cRZwnNdQNDjz",
        "colab": {
          "base_uri": "https://localhost:8080/"
        },
        "outputId": "401e351f-a2e1-4197-f9bc-464aac8c1e84"
      },
      "execution_count": null,
      "outputs": [
        {
          "output_type": "stream",
          "name": "stdout",
          "text": [
            "Dokładność modelu: 0.84\n",
            "[[14  0  0]\n",
            " [ 1 12  5]\n",
            " [ 0  1 12]]\n"
          ]
        }
      ]
    },
    {
      "cell_type": "markdown",
      "source": [
        "## KNN"
      ],
      "metadata": {
        "id": "W8roG3LOMezl"
      }
    },
    {
      "cell_type": "markdown",
      "source": [
        "### Trenowanie modelu"
      ],
      "metadata": {
        "id": "OKGMeCQvNEU8"
      }
    },
    {
      "cell_type": "code",
      "source": [
        "knn = KNeighborsClassifier()\n",
        "\n",
        "# Definicja siatki hiperparametrów do przeszukania\n",
        "param_grid = {\n",
        "    'n_neighbors': [3, 5, 7],\n",
        "    'weights': ['uniform', 'distance']\n",
        "}\n",
        "\n",
        "# Przeszukiwanie siatki hiperparametrów\n",
        "grid_search = GridSearchCV(knn, param_grid, cv=5)\n",
        "grid_search.fit(X_train, y_train)\n",
        "\n",
        "# Najlepsze znalezione parametry\n",
        "best_params_knn = grid_search.best_params_\n",
        "print(f\"Najlepsze parametry: {best_params_knn}\")\n",
        "\n",
        "# Dopasowanie modelu z najlepszymi parametrami\n",
        "best_knn = grid_search.best_estimator_\n",
        "y_pred = best_knn.predict(X_test)"
      ],
      "metadata": {
        "id": "_3NCKAmhMtiq",
        "colab": {
          "base_uri": "https://localhost:8080/"
        },
        "outputId": "b2b98935-83c7-4236-d0f9-646b428affbd"
      },
      "execution_count": null,
      "outputs": [
        {
          "output_type": "stream",
          "name": "stdout",
          "text": [
            "Najlepsze parametry: {'n_neighbors': 3, 'weights': 'uniform'}\n"
          ]
        }
      ]
    },
    {
      "cell_type": "markdown",
      "source": [
        "### Ocena modelu"
      ],
      "metadata": {
        "id": "exH9AIQRNGas"
      }
    },
    {
      "cell_type": "code",
      "source": [
        "# Dokładność modelu na zbiorze testowym\n",
        "knn_accuracy = accuracy_score(y_test, y_pred)\n",
        "print(f\"Dokładność modelu: {knn_accuracy:.2f}\")\n",
        "\n",
        "# Macierz pomyłek\n",
        "knn_matrix = confusion_matrix(y_test, y_pred)\n",
        "print(knn_matrix)"
      ],
      "metadata": {
        "id": "j01ad7r6NJ3P",
        "colab": {
          "base_uri": "https://localhost:8080/"
        },
        "outputId": "8a5369c6-ac14-4b8e-d443-64ea4939dfa2"
      },
      "execution_count": null,
      "outputs": [
        {
          "output_type": "stream",
          "name": "stdout",
          "text": [
            "Dokładność modelu: 0.98\n",
            "[[14  0  0]\n",
            " [ 0 18  0]\n",
            " [ 0  1 12]]\n"
          ]
        }
      ]
    },
    {
      "cell_type": "markdown",
      "source": [
        "## SVC"
      ],
      "metadata": {
        "id": "zWJVZkQjMgiS"
      }
    },
    {
      "cell_type": "markdown",
      "source": [
        "### Trenowanie modelu"
      ],
      "metadata": {
        "id": "t1bWSMXpNKeb"
      }
    },
    {
      "cell_type": "code",
      "source": [
        "svc = SVC()\n",
        "\n",
        "# Definicja siatki hiperparametrów do przeszukania\n",
        "param_grid = {\n",
        "    'C': [0.1, 1, 10],\n",
        "    'kernel': ['linear', 'poly', 'rbf']\n",
        "}\n",
        "\n",
        "# Przeszukiwanie siatki hiperparametrów\n",
        "grid_search = GridSearchCV(svc, param_grid, cv=5)\n",
        "grid_search.fit(X_train, y_train)\n",
        "\n",
        "# Najlepsze znalezione parametry\n",
        "best_params_svc = grid_search.best_params_\n",
        "print(f\"Najlepsze parametry: {best_params_svc}\")\n",
        "\n",
        "# Dopasowanie modelu z najlepszymi parametrami\n",
        "best_svc = grid_search.best_estimator_\n",
        "y_pred = best_svc.predict(X_test)"
      ],
      "metadata": {
        "id": "vN1AlOEPMuF7",
        "colab": {
          "base_uri": "https://localhost:8080/"
        },
        "outputId": "86dc18f7-03e2-48eb-d006-444e630c7238"
      },
      "execution_count": null,
      "outputs": [
        {
          "output_type": "stream",
          "name": "stdout",
          "text": [
            "Najlepsze parametry: {'C': 0.1, 'kernel': 'linear'}\n"
          ]
        }
      ]
    },
    {
      "cell_type": "markdown",
      "source": [
        "### Ocena modelu"
      ],
      "metadata": {
        "id": "dPEXr1maNMYv"
      }
    },
    {
      "cell_type": "code",
      "source": [
        "# Dokładność modelu na zbiorze testowym\n",
        "svc_accuracy = accuracy_score(y_test, y_pred)\n",
        "print(f\"Dokładność modelu: {svc_accuracy:.2f}\")\n",
        "\n",
        "# Macierz pomyłek\n",
        "svc_matrix = confusion_matrix(y_test, y_pred)\n",
        "print(svc_matrix)"
      ],
      "metadata": {
        "id": "t_oCuctuNOGF",
        "colab": {
          "base_uri": "https://localhost:8080/"
        },
        "outputId": "1d87cfed-0132-4e46-c6ab-7befdd7f3161"
      },
      "execution_count": null,
      "outputs": [
        {
          "output_type": "stream",
          "name": "stdout",
          "text": [
            "Dokładność modelu: 0.96\n",
            "[[14  0  0]\n",
            " [ 0 17  1]\n",
            " [ 0  1 12]]\n"
          ]
        }
      ]
    },
    {
      "cell_type": "markdown",
      "source": [
        "# Wnioski i porównanie"
      ],
      "metadata": {
        "id": "OIMHLKbryR4L"
      }
    },
    {
      "cell_type": "markdown",
      "source": [
        "## Porównanie modeli"
      ],
      "metadata": {
        "id": "i_DmL_3jyVTN"
      }
    },
    {
      "cell_type": "code",
      "source": [
        "# Porównanie accuracy modelów\n",
        "plt.figure(figsize=(10, 6))\n",
        "plt.bar(['Perceptron', 'KNN', 'SVC'], [ppn_accuracy, knn_accuracy, svc_accuracy], color='skyblue')\n",
        "plt.xlabel('Model')\n",
        "plt.ylabel('Accuracy')\n",
        "plt.title('Accuracy for Different Models')\n",
        "plt.ylim(0, 1.0)\n",
        "plt.show()"
      ],
      "metadata": {
        "colab": {
          "base_uri": "https://localhost:8080/",
          "height": 564
        },
        "id": "SOPKDnwGym8J",
        "outputId": "4f0159b9-8ead-4516-e980-6367a34b9c2e"
      },
      "execution_count": null,
      "outputs": [
        {
          "output_type": "display_data",
          "data": {
            "text/plain": [
              "<Figure size 1000x600 with 1 Axes>"
            ],
            "image/png": "[encoded data removed]"
          },
          "metadata": {}
        }
      ]
    },
    {
      "cell_type": "code",
      "source": [
        "# Porównanie macierzy błędów poszczególnych modelów\n",
        "plt.figure(figsize=(15, 5))\n",
        "\n",
        "plt.subplot(131)\n",
        "sns.heatmap(ppn_matrix, annot=True, cmap=\"Blues\", fmt=\"d\", cbar=False)\n",
        "plt.title(\"Perceptron\")\n",
        "\n",
        "plt.subplot(132)\n",
        "sns.heatmap(knn_matrix, annot=True, cmap=\"Blues\", fmt=\"d\", cbar=False)\n",
        "plt.title(\"KNN\")\n",
        "\n",
        "plt.subplot(133)\n",
        "sns.heatmap(svc_matrix, annot=True, cmap=\"Blues\", fmt=\"d\", cbar=False)\n",
        "plt.title(\"SVC\")\n",
        "\n",
        "plt.show()"
      ],
      "metadata": {
        "id": "RT1vDrI-ypjW"
      },
      "execution_count": null,
      "outputs": []
    },
    {
      "cell_type": "code",
      "source": [],
      "metadata": {
        "id": "Ki_Sn_K2CROW"
      },
      "execution_count": null,
      "outputs": []
    },
    {
      "cell_type": "markdown",
      "source": [
        "## Wnioski"
      ],
      "metadata": {
        "id": "ZBhZSKF3yqom"
      }
    },
    {
      "cell_type": "markdown",
      "source": [
        "### Wnisoki apropo modeli"
      ],
      "metadata": {
        "id": "m3BaGl-KLfaR"
      }
    },
    {
      "cell_type": "markdown",
      "source": [
        "Perceptron poradził sobie z wynikiem 84% accuracy myląc głównie target 2 z 3 co ma sens biorąc pod uwagę że po tym jak zwizuwalizowaliśmy dane te dwa wyniki mocno nachodziły na siebie a perceptron nie jest w stanie przewidzieć z 100% dokładnością danych które nie są rozdzielnie liniowo. Do dostosowania hiperparametrów użyliśmy maksymalnej liczby iteracji na 100, metody kary elasticnet oraz parametru alpha na poziomie 0.0001 co stanowi multiplier dla kar naniesionych przez elasticnet"
      ],
      "metadata": {
        "id": "hfdHvkhdLsIx"
      }
    },
    {
      "cell_type": "markdown",
      "source": [
        "KNN jest modelem który przewiduje wyniki na podstawie liczby k najbliższych sąaiadów, dlatego uzyskaliśmy na nim znacznie lepsze wyniki niż na Perceptronie który jest mocno ograniczony przez rozdzielność liniową. Jeśli chodzi o dostosowanie hiperparametrów wybraliśmy 3 sąsiadów oraz metode wyboru sąsiadów uniform który każdego sąsiada traktuje tak samo"
      ],
      "metadata": {
        "id": "A2K0rQQSLtT7"
      }
    },
    {
      "cell_type": "markdown",
      "source": [
        "SVC jest modelem który znajduje optymalną płaszczyznę w celu rozdzielenia wyników do tego zadania stosuje rózne kernele, za pomocą metody SearchGrid wybraliśmy kernel liniowy co trochę mnie dziwi biorąc pod uwagę że podobnie jak Perceptron jest on uzależniony od rozdzielności liniowych danych i przypuszczałbym że kernel taki ja rbf poradzi sobie tutaj lepiej, ale może z racji na to że jest to dość prosty zbiór danych kernel liniowy okazał się najlepszy dodarkow jako parametr regularyzacji wskazaliśmy C na 0.1"
      ],
      "metadata": {
        "id": "OlGCde-ULtss"
      }
    },
    {
      "cell_type": "markdown",
      "source": [
        "### Wnioski ogólne"
      ],
      "metadata": {
        "id": "gwHo5EN2LV-9"
      }
    },
    {
      "cell_type": "markdown",
      "source": [
        "Wczytaliśmy zbiór danych Irys który składał się z 3 gatunków kwiatów opisanych przez 4 parametry długość i szerokość płatka oraz kielicha, zwizualizowaliśmy sobie nasze dane i sprawdziliśmy nasz zbiór w poszukiwaniu duplikatów i wartości brakujących następnie ustandaryziwaliśmy za pomocą funkcji StandardScaler z biblioteki sklearn i podzieliśmy na dane uczące i testowe.\n",
        "Następnie wybraliśmy 3 modele, klasyczny Perceptron, KNN model K najbliższych sąsiadów i SVC klasyfikator oparty na modelu wektorów nośnych. Za pomocą metody GridSearchCv wyszukaliśmy najlepsze hiperparametry dla danych modeli i wytrnowaliśmy z ich pomocą 3 modele. W celu wizualizacji przedsatwiliśmy metryke accuracy i macierz błędów. Na tej podstawie możemy wnioskować że najgorszy jest klasyczny model Perceptrony co nie dziwi biorąc pod uwagę że jest on najprosztszym modelem, KNN i SVC natomiast są modelami o podobnych rezultatch z drobną przewagą KNN"
      ],
      "metadata": {
        "id": "MTtu9wsaAD94"
      }
    }
  ]
}